{
 "cells": [
  {
   "cell_type": "code",
   "execution_count": 1,
   "metadata": {
    "collapsed": true
   },
   "outputs": [],
   "source": [
    "import pandas as pd\n",
    "import numpy as np\n",
    "import matplotlib.pyplot as plt\n",
    "%matplotlib inline"
   ]
  },
  {
   "cell_type": "code",
   "execution_count": 2,
   "metadata": {
    "collapsed": true
   },
   "outputs": [],
   "source": [
    "# Read csv data\n",
    "purchases=pd.read_csv(\"purchases.csv\",encoding=\"cp1252\")"
   ]
  },
  {
   "cell_type": "code",
   "execution_count": 3,
   "metadata": {},
   "outputs": [
    {
     "data": {
      "text/html": [
       "<div>\n",
       "<style>\n",
       "    .dataframe thead tr:only-child th {\n",
       "        text-align: right;\n",
       "    }\n",
       "\n",
       "    .dataframe thead th {\n",
       "        text-align: left;\n",
       "    }\n",
       "\n",
       "    .dataframe tbody tr th {\n",
       "        vertical-align: top;\n",
       "    }\n",
       "</style>\n",
       "<table border=\"1\" class=\"dataframe\">\n",
       "  <thead>\n",
       "    <tr style=\"text-align: right;\">\n",
       "      <th></th>\n",
       "      <th>qty</th>\n",
       "      <th>item_i</th>\n",
       "      <th>gst_i</th>\n",
       "      <th>purchase_d</th>\n",
       "    </tr>\n",
       "  </thead>\n",
       "  <tbody>\n",
       "    <tr>\n",
       "      <th>0</th>\n",
       "      <td>4.0</td>\n",
       "      <td>122464</td>\n",
       "      <td>2639949</td>\n",
       "      <td>23/08/2016_00:00:00</td>\n",
       "    </tr>\n",
       "    <tr>\n",
       "      <th>1</th>\n",
       "      <td>1.0</td>\n",
       "      <td>99091</td>\n",
       "      <td>4935278</td>\n",
       "      <td>16/08/2015_00:00:00</td>\n",
       "    </tr>\n",
       "    <tr>\n",
       "      <th>2</th>\n",
       "      <td>1.0</td>\n",
       "      <td>119976</td>\n",
       "      <td>3479638</td>\n",
       "      <td>18/12/2015_00:00:00</td>\n",
       "    </tr>\n",
       "    <tr>\n",
       "      <th>3</th>\n",
       "      <td>1.0</td>\n",
       "      <td>22501</td>\n",
       "      <td>257693</td>\n",
       "      <td>06/08/2016_00:00:00</td>\n",
       "    </tr>\n",
       "    <tr>\n",
       "      <th>4</th>\n",
       "      <td>1.0</td>\n",
       "      <td>23785</td>\n",
       "      <td>1912070</td>\n",
       "      <td>06/01/2016_00:00:00</td>\n",
       "    </tr>\n",
       "  </tbody>\n",
       "</table>\n",
       "</div>"
      ],
      "text/plain": [
       "   qty  item_i    gst_i           purchase_d\n",
       "0  4.0  122464  2639949  23/08/2016_00:00:00\n",
       "1  1.0   99091  4935278  16/08/2015_00:00:00\n",
       "2  1.0  119976  3479638  18/12/2015_00:00:00\n",
       "3  1.0   22501   257693  06/08/2016_00:00:00\n",
       "4  1.0   23785  1912070  06/01/2016_00:00:00"
      ]
     },
     "execution_count": 3,
     "metadata": {},
     "output_type": "execute_result"
    }
   ],
   "source": [
    "# Data snapshot\n",
    "purchases.head()"
   ]
  },
  {
   "cell_type": "code",
   "execution_count": 4,
   "metadata": {},
   "outputs": [
    {
     "name": "stdout",
     "output_type": "stream",
     "text": [
      "(37796, 4)\n"
     ]
    }
   ],
   "source": [
    "# Summarize the number of rows and columns\n",
    "print(purchases.shape)"
   ]
  },
  {
   "cell_type": "markdown",
   "metadata": {},
   "source": [
    "# Data Preprocessing"
   ]
  },
  {
   "cell_type": "raw",
   "metadata": {},
   "source": [
    "################################### 1. MISSING VALUES ################################### "
   ]
  },
  {
   "cell_type": "code",
   "execution_count": 5,
   "metadata": {},
   "outputs": [
    {
     "data": {
      "text/plain": [
       "qty            0\n",
       "item_i        98\n",
       "gst_i          0\n",
       "purchase_d     0\n",
       "dtype: int64"
      ]
     },
     "execution_count": 5,
     "metadata": {},
     "output_type": "execute_result"
    }
   ],
   "source": [
    "# Count of missing observations\n",
    "purchases.isnull().sum()"
   ]
  },
  {
   "cell_type": "code",
   "execution_count": 6,
   "metadata": {
    "collapsed": true
   },
   "outputs": [],
   "source": [
    "# Drop rows with missing values\n",
    "purchases.dropna(inplace=True)"
   ]
  },
  {
   "cell_type": "raw",
   "metadata": {},
   "source": [
    "################################### 2. Drop Quantity <0 ################################### \n",
    "# We see there are records with non integer quantities. \n",
    "# Choosing to not drop them since there might be products sold in pounds/etc  \n",
    "\n",
    "################## 3. Deal Special Characters in guest and item ids #######################"
   ]
  },
  {
   "cell_type": "code",
   "execution_count": 7,
   "metadata": {},
   "outputs": [
    {
     "data": {
      "text/plain": [
       "count    37698.000000\n",
       "mean         1.328630\n",
       "std          1.136038\n",
       "min         -1.000000\n",
       "25%          1.000000\n",
       "50%          1.000000\n",
       "75%          1.000000\n",
       "max         63.000000\n",
       "Name: qty, dtype: float64"
      ]
     },
     "execution_count": 7,
     "metadata": {},
     "output_type": "execute_result"
    }
   ],
   "source": [
    "# Check for qty distribution\n",
    "purchases.qty.describe()"
   ]
  },
  {
   "cell_type": "code",
   "execution_count": 9,
   "metadata": {},
   "outputs": [
    {
     "data": {
      "text/plain": [
       "98"
      ]
     },
     "execution_count": 9,
     "metadata": {},
     "output_type": "execute_result"
    }
   ],
   "source": [
    "# We see there exists entries with Quantity purchased <0 which is not possible\n",
    "# Number of such rows\n",
    "len(purchases[purchases.qty<=0])"
   ]
  },
  {
   "cell_type": "code",
   "execution_count": 10,
   "metadata": {},
   "outputs": [
    {
     "name": "stdout",
     "output_type": "stream",
     "text": [
      "       qty   item_i    gst_i           purchase_d\n",
      "1833   1.0  Š—È?Š—È  1461496  27/11/2015_00:00:00\n",
      "24965  1.0        ?  2446816  23/03/2016_00:00:00\n"
     ]
    }
   ],
   "source": [
    "# Rows where Item id has special characters\n",
    "print (purchases[purchases.item_i.str.contains('\\?')==True])"
   ]
  },
  {
   "cell_type": "code",
   "execution_count": 11,
   "metadata": {},
   "outputs": [
    {
     "name": "stdout",
     "output_type": "stream",
     "text": [
      "       qty  item_i    gst_i           purchase_d\n",
      "6619   1.0  110411        ?  22/10/2016_00:00:00\n",
      "11893  1.0   58320  Š—È?Š—È  04/04/2016_00:00:00\n"
     ]
    }
   ],
   "source": [
    "# Columns where Guest id has special characters\n",
    "print (purchases[purchases.gst_i.str.contains('\\?')==True])"
   ]
  },
  {
   "cell_type": "code",
   "execution_count": 12,
   "metadata": {},
   "outputs": [
    {
     "data": {
      "text/plain": [
       "(37596, 4)"
      ]
     },
     "execution_count": 12,
     "metadata": {},
     "output_type": "execute_result"
    }
   ],
   "source": [
    "# Exclude rows with qty<=0 & Guest id/Item id containing special characters\n",
    "clean_purchases=purchases[(purchases.gst_i.str.contains('\\?')==False) & (purchases.item_i.str.contains('\\?')==False) \n",
    "           & (purchases.qty>0) ]\n",
    "clean_purchases.shape"
   ]
  },
  {
   "cell_type": "raw",
   "metadata": {},
   "source": [
    "################################### 4. CHECK USE OF PURCHASE DATE #########################"
   ]
  },
  {
   "cell_type": "code",
   "execution_count": 18,
   "metadata": {},
   "outputs": [
    {
     "data": {
      "text/plain": [
       "count    37596.0\n",
       "mean         1.0\n",
       "std          0.0\n",
       "min          1.0\n",
       "25%          1.0\n",
       "50%          1.0\n",
       "75%          1.0\n",
       "max          1.0\n",
       "dtype: float64"
      ]
     },
     "execution_count": 18,
     "metadata": {},
     "output_type": "execute_result"
    }
   ],
   "source": [
    "# Check whether a guest purchases an item multiple times on different days\n",
    "clean_purchases.groupby(['gst_i','item_i']).size().describe()"
   ]
  },
  {
   "cell_type": "code",
   "execution_count": 15,
   "metadata": {
    "collapsed": true
   },
   "outputs": [],
   "source": [
    "# Since a guest purchases an item just once, there is no use of purchase date column and we can drop it.\n",
    "\n",
    "# Final Clean Data for Exploratory Analysis\n",
    "exploratory_pur_data=clean_purchases.drop('purchase_d', axis=1)"
   ]
  },
  {
   "cell_type": "raw",
   "metadata": {},
   "source": [
    "####################### CLEAN DATA FOR EXPLORATORY ANALYSIS ###############################"
   ]
  },
  {
   "cell_type": "code",
   "execution_count": 356,
   "metadata": {},
   "outputs": [
    {
     "name": "stdout",
     "output_type": "stream",
     "text": [
      "1000 guests\n",
      "17403 items\n"
     ]
    }
   ],
   "source": [
    "# Count number of guests and items in the dataset\n",
    "\n",
    "print(str(exploratory_pur_data.gst_i.unique().shape[0]) + ' guests')\n",
    "print(str(exploratory_pur_data.item_i.unique().shape[0]) + ' items')"
   ]
  },
  {
   "cell_type": "markdown",
   "metadata": {},
   "source": [
    "# Exploratory Analysis"
   ]
  },
  {
   "cell_type": "code",
   "execution_count": 35,
   "metadata": {},
   "outputs": [
    {
     "data": {
      "text/html": [
       "<div>\n",
       "<style>\n",
       "    .dataframe thead tr:only-child th {\n",
       "        text-align: right;\n",
       "    }\n",
       "\n",
       "    .dataframe thead th {\n",
       "        text-align: left;\n",
       "    }\n",
       "\n",
       "    .dataframe tbody tr th {\n",
       "        vertical-align: top;\n",
       "    }\n",
       "</style>\n",
       "<table border=\"1\" class=\"dataframe\">\n",
       "  <thead>\n",
       "    <tr style=\"text-align: right;\">\n",
       "      <th></th>\n",
       "      <th>item_i</th>\n",
       "    </tr>\n",
       "  </thead>\n",
       "  <tbody>\n",
       "    <tr>\n",
       "      <th>count</th>\n",
       "      <td>1000.00000</td>\n",
       "    </tr>\n",
       "    <tr>\n",
       "      <th>mean</th>\n",
       "      <td>37.59600</td>\n",
       "    </tr>\n",
       "    <tr>\n",
       "      <th>std</th>\n",
       "      <td>32.50094</td>\n",
       "    </tr>\n",
       "    <tr>\n",
       "      <th>min</th>\n",
       "      <td>1.00000</td>\n",
       "    </tr>\n",
       "    <tr>\n",
       "      <th>25%</th>\n",
       "      <td>14.00000</td>\n",
       "    </tr>\n",
       "    <tr>\n",
       "      <th>50%</th>\n",
       "      <td>28.00000</td>\n",
       "    </tr>\n",
       "    <tr>\n",
       "      <th>75%</th>\n",
       "      <td>50.25000</td>\n",
       "    </tr>\n",
       "    <tr>\n",
       "      <th>max</th>\n",
       "      <td>281.00000</td>\n",
       "    </tr>\n",
       "  </tbody>\n",
       "</table>\n",
       "</div>"
      ],
      "text/plain": [
       "           item_i\n",
       "count  1000.00000\n",
       "mean     37.59600\n",
       "std      32.50094\n",
       "min       1.00000\n",
       "25%      14.00000\n",
       "50%      28.00000\n",
       "75%      50.25000\n",
       "max     281.00000"
      ]
     },
     "execution_count": 35,
     "metadata": {},
     "output_type": "execute_result"
    }
   ],
   "source": [
    "# Distribution of Items purchased by guests\n",
    "\n",
    "exploratory_pur_data.groupby(['gst_i']).agg({'item_i': 'count'}).reset_index().describe()\n",
    "\n",
    "#On average a guest purchased 38 items"
   ]
  },
  {
   "cell_type": "code",
   "execution_count": 34,
   "metadata": {},
   "outputs": [
    {
     "data": {
      "text/plain": [
       "gst_i     2578025.0\n",
       "item_i         28.0\n",
       "dtype: float64"
      ]
     },
     "execution_count": 34,
     "metadata": {},
     "output_type": "execute_result"
    }
   ],
   "source": [
    "#Median # of items purchased is 28\n",
    "\n",
    "exploratory_pur_data.groupby(['gst_i']).agg({'item_i': 'count'}).reset_index().median()"
   ]
  },
  {
   "cell_type": "code",
   "execution_count": 26,
   "metadata": {},
   "outputs": [
    {
     "name": "stdout",
     "output_type": "stream",
     "text": [
      "       gst_i  item_i\n",
      "212  1904015     281\n",
      "785   466727     191\n",
      "342  2563664     174\n",
      "356     2629     168\n",
      "361  2639949     164\n",
      "326  2482638     154\n",
      "721  4414710     154\n",
      "531  3384086     153\n",
      "974    87626     153\n",
      "549  3500517     149\n"
     ]
    }
   ],
   "source": [
    "# Identify top 10 guests who purchased maximum items\n",
    "\n",
    "print(exploratory_pur_data.groupby(['gst_i']).agg({'item_i': 'count'}).reset_index().\n",
    "      sort_values(['item_i', 'gst_i'], ascending = [0,1]).head(10))"
   ]
  },
  {
   "cell_type": "code",
   "execution_count": 30,
   "metadata": {},
   "outputs": [
    {
     "name": "stdout",
     "output_type": "stream",
     "text": [
      "----------AFTER DROPPING ITEMS WHICH HAVE BEEN PURCHASED ONCE ---------------\n",
      "955 guests\n",
      "2402 items\n"
     ]
    }
   ],
   "source": [
    "# Drop items from the dataset which has been purchased maximum 3 times\n",
    "\n",
    "purchases_drop_uncommon_items = exploratory_pur_data.groupby('item_i').filter(lambda x: len(x) >3)\n",
    "\n",
    "print('----------AFTER DROPPING ITEMS WHICH HAVE BEEN PURCHASED ONCE ---------------')\n",
    "print(str(purchases_drop_uncommon_items.gst_i.unique().shape[0]) + ' guests')\n",
    "print(str(purchases_drop_uncommon_items.item_i.unique().shape[0]) + ' items')"
   ]
  },
  {
   "cell_type": "code",
   "execution_count": 32,
   "metadata": {},
   "outputs": [
    {
     "data": {
      "text/html": [
       "<div>\n",
       "<style>\n",
       "    .dataframe thead tr:only-child th {\n",
       "        text-align: right;\n",
       "    }\n",
       "\n",
       "    .dataframe thead th {\n",
       "        text-align: left;\n",
       "    }\n",
       "\n",
       "    .dataframe tbody tr th {\n",
       "        vertical-align: top;\n",
       "    }\n",
       "</style>\n",
       "<table border=\"1\" class=\"dataframe\">\n",
       "  <thead>\n",
       "    <tr style=\"text-align: right;\">\n",
       "      <th></th>\n",
       "      <th>item_i</th>\n",
       "    </tr>\n",
       "  </thead>\n",
       "  <tbody>\n",
       "    <tr>\n",
       "      <th>count</th>\n",
       "      <td>45.000000</td>\n",
       "    </tr>\n",
       "    <tr>\n",
       "      <th>mean</th>\n",
       "      <td>5.933333</td>\n",
       "    </tr>\n",
       "    <tr>\n",
       "      <th>std</th>\n",
       "      <td>3.834058</td>\n",
       "    </tr>\n",
       "    <tr>\n",
       "      <th>min</th>\n",
       "      <td>1.000000</td>\n",
       "    </tr>\n",
       "    <tr>\n",
       "      <th>25%</th>\n",
       "      <td>3.000000</td>\n",
       "    </tr>\n",
       "    <tr>\n",
       "      <th>50%</th>\n",
       "      <td>5.000000</td>\n",
       "    </tr>\n",
       "    <tr>\n",
       "      <th>75%</th>\n",
       "      <td>8.000000</td>\n",
       "    </tr>\n",
       "    <tr>\n",
       "      <th>max</th>\n",
       "      <td>17.000000</td>\n",
       "    </tr>\n",
       "  </tbody>\n",
       "</table>\n",
       "</div>"
      ],
      "text/plain": [
       "          item_i\n",
       "count  45.000000\n",
       "mean    5.933333\n",
       "std     3.834058\n",
       "min     1.000000\n",
       "25%     3.000000\n",
       "50%     5.000000\n",
       "75%     8.000000\n",
       "max    17.000000"
      ]
     },
     "execution_count": 32,
     "metadata": {},
     "output_type": "execute_result"
    }
   ],
   "source": [
    "# How many items have been purchased by the guests on average who have been dropped?\n",
    "\n",
    "# List of users who have been dropped\n",
    "dropped_users = list(set(exploratory_pur_data.gst_i.unique()) - set(purchases_drop_uncommon_items.gst_i.unique()))\n",
    "\n",
    "# All items purchased by the dropped users\n",
    "Dropped_rows=exploratory_pur_data[exploratory_pur_data['gst_i'].isin(dropped_users)]\n",
    "\n",
    "# Distribution of items purchased by these users\n",
    "Dropped_rows.groupby(['gst_i']).agg({'item_i': 'count'}).reset_index().describe()"
   ]
  },
  {
   "cell_type": "code",
   "execution_count": 37,
   "metadata": {},
   "outputs": [
    {
     "data": {
      "text/plain": [
       "gst_i     2853587.0\n",
       "item_i          5.0\n",
       "dtype: float64"
      ]
     },
     "execution_count": 37,
     "metadata": {},
     "output_type": "execute_result"
    }
   ],
   "source": [
    "#Median # of items purchased by these users is 5\n",
    "Dropped_rows.groupby(['gst_i']).agg({'item_i': 'count'}).reset_index().median()"
   ]
  }
 ],
 "metadata": {
  "kernelspec": {
   "display_name": "Python 3",
   "language": "python",
   "name": "python3"
  },
  "language_info": {
   "codemirror_mode": {
    "name": "ipython",
    "version": 3
   },
   "file_extension": ".py",
   "mimetype": "text/x-python",
   "name": "python",
   "nbconvert_exporter": "python",
   "pygments_lexer": "ipython3",
   "version": "3.6.1"
  }
 },
 "nbformat": 4,
 "nbformat_minor": 2
}
